{
 "cells": [
  {
   "cell_type": "code",
   "execution_count": 1,
   "metadata": {
    "pycharm": {
     "name": "#%%\n"
    }
   },
   "outputs": [
    {
     "name": "stderr",
     "output_type": "stream",
     "text": [
      "Using TensorFlow backend.\n"
     ]
    },
    {
     "name": "stdout",
     "output_type": "stream",
     "text": [
      "regime classifier\n",
      "Loading classifier\n",
      "Train accuracy: 0.9887387387387387\n",
      "\n",
      "Regression model generation_rate2\n",
      "Loading Regressor\n",
      "R square (R^2) for Train:                 0.987384\n",
      "\n",
      "Regression model droplet_size2\n",
      "Loading Regressor\n",
      "R square (R^2) for Train:                 0.983142\n",
      "\n",
      "Regression model generation_rate1\n",
      "Loading Regressor\n",
      "R square (R^2) for Train:                 0.965872\n",
      "\n",
      "Regression model droplet_size1\n",
      "Loading Regressor\n",
      "R square (R^2) for Train:                 0.953238\n",
      "\n"
     ]
    }
   ],
   "source": [
    "import pandas as pd\n",
    "import matplotlib.pyplot as plt\n",
    "import matplotlib\n",
    "from DAFD.rv_study.rv_utils import *\n",
    "from scipy.spatial import ConvexHull, convex_hull_plot_2d\n",
    "from tqdm import tqdm"
   ]
  },
  {
   "cell_type": "code",
   "execution_count": 2,
   "metadata": {},
   "outputs": [],
   "source": [
    "orthogonal_devices = pd.read_csv(\"DAFD/rv_study/orthogonal_devices.csv\")"
   ]
  },
  {
   "cell_type": "markdown",
   "metadata": {},
   "source": [
    "Run versatility analysis on 25 orthogonal devices and plot design space coverage"
   ]
  },
  {
   "cell_type": "code",
   "execution_count": null,
   "metadata": {},
   "outputs": [],
   "source": [
    "devices = orthogonal_devices.to_dict(orient='records')\n",
    "score = []\n",
    "size_score = []\n",
    "rate_score = []\n",
    "all_points = {}\n",
    "hulls = []\n",
    "\n",
    "plt.figure(figsize=[8,5.5])\n",
    "for device in tqdm(devices):\n",
    "    features = device.copy()\n",
    "    chip_num = features[\"Chip #\"]\n",
    "    del features[\"Chip #\"]\n",
    "    sizes, rates, _ = sweep_results(device, sweep_size=25, jet_drop=False, ca_range=[.05, .4])\n",
    "    size_score.append(np.max(sizes) - np.min(sizes))\n",
    "    rate_score.append(np.max(rates) - np.min(rates))\n",
    "    points = np.array([[sizes[i], rates[i]] for i in range(len(sizes))])\n",
    "    all_points[chip_num] = points\n",
    "    hull = ConvexHull(points)\n",
    "    hulls.append(hull)\n",
    "    plt.scatter(points[:,0], points[:,1], s=10)\n",
    "    for simplex in hull.simplices:\n",
    "        plt.plot(points[simplex, 0], points[simplex, 1], 'k-')\n",
    "    score.append(hull.volume)\n",
    "orthogonal_devices[\"hull_object\"] = hulls\n",
    "plt.xticks([0, 100, 200, 300])\n",
    "plt.xlabel(\"Droplet Size (um)\")\n",
    "plt.ylabel(\"Generation Rate (Hz)\")\n",
    "plt.xlim([0, 350])\n",
    "plt.ylim([0, 500])\n",
    "plt.title(\"Performance Span of Orthogonal Devices\")\n"
   ]
  },
  {
   "cell_type": "markdown",
   "metadata": {},
   "source": [
    "Calculate minimal orthogonal devices needed to cover design space"
   ]
  },
  {
   "cell_type": "code",
   "execution_count": null,
   "metadata": {},
   "outputs": [],
   "source": [
    "# Making minimal setup\n",
    "target = 0.99\n",
    "coverage = 0.0\n",
    "hulls = orthogonal_devices[\"hull_object\"].to_dict()\n",
    "devices_left = len(hulls)\n",
    "points_left = []\n",
    "points_used = []\n",
    "used = []\n",
    "areas = list(np.zeros(len(hulls)))\n",
    "\n",
    "for key in all_points.keys():\n",
    "    points_left.extend(all_points[key])\n",
    "area_left = ConvexHull(points_left).volume\n",
    "design_space_area = area_left\n",
    "\n",
    "count = 1\n",
    "while coverage <= target or count < 25:\n",
    "    print(count)\n",
    "    ## 1.1 Calculate area of each device hull\n",
    "    for key in hulls:\n",
    "        if key not in used:\n",
    "            areas[key] = hulls[key].volume\n",
    "    ## 1.2 pick hull with maximum area\n",
    "    max_chip = areas.index(max(areas)) #requires 2 iterations but list is small\n",
    "    used.append(max_chip)\n",
    "    ## 1.3 remove all points WITHIN hull (& add to min dataset). This is for the full devices and for any overlaps\n",
    "    points_left = []\n",
    "    for chip_num in all_points.keys():\n",
    "        points_placeholder = []\n",
    "        for i, point in enumerate(all_points[chip_num]):\n",
    "            if not in_hull(point, hulls[max_chip].points):\n",
    "                points_placeholder.append(point)\n",
    "            else:\n",
    "                points_used.append(point)\n",
    "        all_points[int(chip_num)] = np.array(points_placeholder) # Delete point if it is inside of the current point\n",
    "        points_left.extend(all_points[chip_num])\n",
    "        if chip_num-1 in used or len(all_points[chip_num]) < 3:\n",
    "            areas[int(chip_num)-1] = -1\n",
    "            if chip_num - 1 not in used:\n",
    "                used.append(chip_num-1)\n",
    "        else:\n",
    "            hulls[int(chip_num)-1] = ConvexHull(all_points[chip_num])\n",
    "        \n",
    "    area_left = ConvexHull(points_used).volume\n",
    "    coverage = area_left/design_space_area\n",
    "    print(\"Iteration %f, Coverage %f\" % (count, coverage))\n",
    "    count+=1\n",
    "    if count > 25:\n",
    "        break\n",
    "    if coverage >= 0.99:\n",
    "        break"
   ]
  },
  {
   "cell_type": "markdown",
   "metadata": {},
   "source": [
    "Plot minimal devices to visualize overlap and design space coverage"
   ]
  },
  {
   "cell_type": "code",
   "execution_count": null,
   "metadata": {},
   "outputs": [],
   "source": [
    "entire_space = []\n",
    "for key in all_points.keys():\n",
    "    entire_space.extend(all_points[key])\n",
    "entire_space= np.array(entire_space)\n",
    "design_space_hull = ConvexHull(entire_space)\n",
    "\n",
    "plt.figure(figsize=[8,5.5])\n",
    "plt.scatter(all_points[11][:,0], all_points[11][:,1])\n",
    "plt.scatter(all_points[21][:,0], all_points[21][:,1])\n",
    "plt.scatter(all_points[1][:,0], all_points[1][:,1])\n",
    "plt.scatter(all_points[22][:,0], all_points[22][:,1])\n",
    "plt.scatter(all_points[3][:,0], all_points[3][:,1])\n",
    "\n",
    "plt.scatter(all_points[25][:,0], all_points[25][:,1])\n",
    "plt.scatter(all_points[24][:,0], all_points[24][:,1])\n",
    "\n",
    "plt.legend([\"11\", \"21\", \"1\", \"25\", \"24\"])\n",
    "plt.title(\"Minimal Design Space Coverage of Orthogonal Devices\")\n",
    "plt.xticks([0, 100, 200, 300])\n",
    "plt.xlabel(\"Droplet Size (um)\")\n",
    "plt.ylabel(\"Generation Rate (Hz)\")\n",
    "for simplex in design_space_hull.simplices:\n",
    "    plt.plot(entire_space[simplex, 0], entire_space[simplex, 1], 'k-')\n",
    "\n",
    "plt.xlim([0, 350])\n",
    "plt.ylim([0, 500])\n",
    "#plt.savefig(\"minimal_plots.pdf\")"
   ]
  }
 ],
 "metadata": {
  "kernelspec": {
   "display_name": "Python 3",
   "language": "python",
   "name": "python3"
  },
  "language_info": {
   "codemirror_mode": {
    "name": "ipython",
    "version": 3
   },
   "file_extension": ".py",
   "mimetype": "text/x-python",
   "name": "python",
   "nbconvert_exporter": "python",
   "pygments_lexer": "ipython3",
   "version": "3.6.12"
  }
 },
 "nbformat": 4,
 "nbformat_minor": 4
}
