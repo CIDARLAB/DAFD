{
 "cells": [
  {
   "cell_type": "code",
   "execution_count": 66,
   "metadata": {},
   "outputs": [],
   "source": [
    "import pandas as pd\n",
    "import numpy as np\n",
    "import matplotlib.pyplot as plt\n",
    "import seaborn as sns\n",
    "from scipy.spatial import ConvexHull, convex_hull_plot_2d\n"
   ]
  },
  {
   "cell_type": "code",
   "execution_count": 67,
   "metadata": {},
   "outputs": [],
   "source": [
    "simulated = pd.read_csv(\"20220609_FSLFS_FINERESULTS.csv\")"
   ]
  },
  {
   "cell_type": "code",
   "execution_count": 74,
   "metadata": {},
   "outputs": [
    {
     "data": {
      "text/plain": [
       "Index(['Unnamed: 0', 'Unnamed: 0.1', 'index', 'Unnamed: 0.1.1', 'aspect_ratio',\n",
       "       'capillary_number', 'chip_number', 'droplet_size', 'expansion_ratio',\n",
       "       'flow_rate_ratio', 'generation_rate', 'inferred_size',\n",
       "       'normalized_oil_inlet', 'normalized_orifice_length',\n",
       "       'normalized_water_inlet', 'orifice_size', 'regime', 'boundary',\n",
       "       'water_flow', 'oil_flow'],\n",
       "      dtype='object')"
      ]
     },
     "execution_count": 74,
     "metadata": {},
     "output_type": "execute_result"
    }
   ],
   "source": [
    "lfs_sim.columns"
   ]
  },
  {
   "cell_type": "code",
   "execution_count": 72,
   "metadata": {},
   "outputs": [],
   "source": [
    "fs_sim = simulated.loc[simulated.chip_number==0,:]\n",
    "lfs_sim = simulated.loc[simulated.chip_number==1,:]\n"
   ]
  },
  {
   "cell_type": "code",
   "execution_count": 84,
   "metadata": {},
   "outputs": [],
   "source": [
    "fs = pd.read_csv(\"FS_experimental_results.csv\")\n",
    "fs.rename(columns={\"exp. Regime\":\"exp_regime\", \"Ca\":\"capillary_number\",\"FRR\":\"flow_rate_ratio\"}, inplace=True)\n",
    "lfs = pd.read_csv(\"LFS_experimental_results.csv\")\n",
    "lfs.rename(columns={\"exp. Regime\":\"exp_regime\", \"Ca\":\"capillary_number\",\"FRR\":\"flow_rate_ratio\"}, inplace=True)"
   ]
  },
  {
   "cell_type": "code",
   "execution_count": 83,
   "metadata": {},
   "outputs": [
    {
     "data": {
      "text/plain": [
       "Index(['Ca', 'FRR', 'water_flow', 'oil_flow', 'regime', 'exp_regime'], dtype='object')"
      ]
     },
     "execution_count": 83,
     "metadata": {},
     "output_type": "execute_result"
    }
   ],
   "source": [
    "fs.columns"
   ]
  },
  {
   "cell_type": "code",
   "execution_count": 98,
   "metadata": {},
   "outputs": [
    {
     "data": {
      "image/png": "[encoded data removed]",
      "text/plain": [
       "<Figure size 432x288 with 1 Axes>"
      ]
     },
     "metadata": {
      "needs_background": "light"
     },
     "output_type": "display_data"
    }
   ],
   "source": [
    "import matplotlib\n",
    "used = fs_sim\n",
    "\n",
    "\n",
    "# r1 = used.loc[used.regime==1,[\"capillary_number\", \"flow_rate_ratio\"]].reset_index()\n",
    "# r2 = used.loc[used.regime==2,[\"capillary_number\", \"flow_rate_ratio\"]].reset_index()\n",
    "\n",
    "r1 = used.loc[used.regime==1,[\"water_flow\", \"oil_flow\"]].reset_index()\n",
    "r2 = used.loc[used.regime==2,[\"water_flow\", \"oil_flow\"]].reset_index()\n",
    "\n",
    "# plt.plot(,fs.loc[fs.regime==1,\"FRR\"],\"o\")\n",
    "# plt.plot(fs.loc[fs.regime==2,\"Ca\"],fs.loc[fs.regime==2,\"FRR\"],\"o\")\n",
    "\n",
    "for df in [r1, r2]:\n",
    "    points = np.array([[df.water_flow[i], df.oil_flow[i]] for i in range(len(df.water_flow))])\n",
    "\n",
    "\n",
    "    hull = ConvexHull(points)\n",
    "    plt.scatter(points[:,0], points[:,1])\n",
    "#     for simplex in hull.simplices:\n",
    "#         plt.plot(points[simplex, 0], points[simplex, 1], 'k-')\n",
    "#     # plt.plot(fs.loc[fs.exp_regime==1,\"Ca\"],fs.loc[fs.exp_regime==1,\"FRR\"], \".\")\n",
    "#     # plt.plot(fs.loc[fs.exp_regime==2,\"Ca\"],fs.loc[fs.exp_regime==2,\"FRR\"], \".\")\n",
    "\n",
    "#plt.xlim([0, 10])\n",
    "#plt.ylim([0,1])\n",
    "\n",
    "# matplotlib.rcParams['pdf.fonttype'] = 42\n",
    "# matplotlib.rcParams['ps.fonttype'] = 42\n",
    "# plt.savefig(\"20220609_LFS_simulated.pdf\")\n"
   ]
  },
  {
   "cell_type": "code",
   "execution_count": 94,
   "metadata": {},
   "outputs": [
    {
     "data": {
      "image/png": "[encoded data removed]",
      "text/plain": [
       "<Figure size 432x288 with 1 Axes>"
      ]
     },
     "metadata": {
      "needs_background": "light"
     },
     "output_type": "display_data"
    }
   ],
   "source": [
    "import matplotlib\n",
    "used = lfs_sim\n",
    "\n",
    "\n",
    "# r1 = used.loc[used.regime==1,[\"capillary_number\", \"flow_rate_ratio\"]].reset_index()\n",
    "# r2 = used.loc[used.regime==2,[\"capillary_number\", \"flow_rate_ratio\"]].reset_index()\n",
    "\n",
    "r1 = used.loc[used.regime==1,[\"water_flow\", \"oil_flow\"]].reset_index()\n",
    "r2 = used.loc[used.regime==2,[\"water_flow\", \"oil_flow\"]].reset_index()\n",
    "\n",
    "# plt.plot(,fs.loc[fs.regime==1,\"FRR\"],\"o\")\n",
    "# plt.plot(fs.loc[fs.regime==2,\"Ca\"],fs.loc[fs.regime==2,\"FRR\"],\"o\")\n",
    "\n",
    "for df in [r1, r2]:\n",
    "    points = np.array([[df.water_flow[i], df.oil_flow[i]] for i in range(len(df.water_flow))])\n",
    "\n",
    "\n",
    "    hull = ConvexHull(points)\n",
    "    plt.scatter(points[:,0], points[:,1])\n",
    "#     for simplex in hull.simplices:\n",
    "#         plt.plot(points[simplex, 0], points[simplex, 1], 'k-')\n",
    "#     # plt.plot(fs.loc[fs.exp_regime==1,\"Ca\"],fs.loc[fs.exp_regime==1,\"FRR\"], \".\")\n",
    "#     # plt.plot(fs.loc[fs.exp_regime==2,\"Ca\"],fs.loc[fs.exp_regime==2,\"FRR\"], \".\")\n",
    "\n",
    "#  plt.xlim([0, 10])\n",
    "# plt.ylim([0,22])\n",
    "\n",
    "# matplotlib.rcParams['pdf.fonttype'] = 42\n",
    "# matplotlib.rcParams['ps.fonttype'] = 42\n",
    "# plt.savefig(\"20220609_LFS_simulated.pdf\")"
   ]
  },
  {
   "cell_type": "code",
   "execution_count": 23,
   "metadata": {},
   "outputs": [
    {
     "data": {
      "text/plain": [
       "[<matplotlib.lines.Line2D at 0x1e1896b9f60>]"
      ]
     },
     "execution_count": 23,
     "metadata": {},
     "output_type": "execute_result"
    },
    {
     "data": {
      "image/png": "[encoded data removed]",
      "text/plain": [
       "<Figure size 432x288 with 1 Axes>"
      ]
     },
     "metadata": {
      "needs_background": "light"
     },
     "output_type": "display_data"
    }
   ],
   "source": [
    "plt.plot(lfs.loc[lfs.regime==1,\"Ca\"],lfs.loc[lfs.regime==1,\"FRR\"],\"o\")\n",
    "plt.plot(lfs.loc[lfs.regime==2,\"Ca\"],lfs.loc[lfs.regime==2,\"FRR\"],\"o\")\n",
    "\n",
    "plt.plot(lfs.loc[lfs.exp_regime==1,\"Ca\"],lfs.loc[lfs.exp_regime==1,\"FRR\"], \".\")\n",
    "plt.plot(lfs.loc[lfs.exp_regime==2,\"Ca\"],lfs.loc[lfs.exp_regime==2,\"FRR\"], \".\")\n"
   ]
  },
  {
   "cell_type": "code",
   "execution_count": null,
   "metadata": {},
   "outputs": [],
   "source": [
    "oil_flow(Ca_num * 0.005 * channel_height * oil_inlet * 1e-12) / \\\n",
    "                    (0.0572 * ((water_inlet_width * 1e-6)) * (\n",
    "                            (1 / (Or * 1e-6)) - (1 / (2 * oil_inlet * 1e-6))))"
   ]
  }
 ],
 "metadata": {
  "kernelspec": {
   "display_name": "Python 3",
   "language": "python",
   "name": "python3"
  },
  "language_info": {
   "codemirror_mode": {
    "name": "ipython",
    "version": 3
   },
   "file_extension": ".py",
   "mimetype": "text/x-python",
   "name": "python",
   "nbconvert_exporter": "python",
   "pygments_lexer": "ipython3",
   "version": "3.6.12"
  }
 },
 "nbformat": 4,
 "nbformat_minor": 4
}
