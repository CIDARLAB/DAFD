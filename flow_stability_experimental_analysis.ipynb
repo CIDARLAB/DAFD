{
 "cells": [
  {
   "cell_type": "code",
   "execution_count": 17,
   "metadata": {},
   "outputs": [],
   "source": [
    "import pandas as pd\n",
    "import numpy as np\n",
    "import matplotlib.pyplot as plt\n",
    "import seaborn as sns\n",
    "from scipy.spatial import ConvexHull, convex_hull_plot_2d\n"
   ]
  },
  {
   "cell_type": "code",
   "execution_count": 3,
   "metadata": {},
   "outputs": [],
   "source": [
    "simulated = pd.read_csv(\"data/20220609_FSLFS_FINERESULTS.csv\")"
   ]
  },
  {
   "cell_type": "code",
   "execution_count": 4,
   "metadata": {},
   "outputs": [
    {
     "ename": "NameError",
     "evalue": "name 'lfs_sim' is not defined",
     "output_type": "error",
     "traceback": [
      "\u001b[1;31m---------------------------------------------------------------------------\u001b[0m",
      "\u001b[1;31mNameError\u001b[0m                                 Traceback (most recent call last)",
      "\u001b[1;32m<ipython-input-4-32d7a84ffce5>\u001b[0m in \u001b[0;36m<module>\u001b[1;34m\u001b[0m\n\u001b[1;32m----> 1\u001b[1;33m \u001b[0mlfs_sim\u001b[0m\u001b[1;33m.\u001b[0m\u001b[0mcolumns\u001b[0m\u001b[1;33m\u001b[0m\u001b[1;33m\u001b[0m\u001b[0m\n\u001b[0m",
      "\u001b[1;31mNameError\u001b[0m: name 'lfs_sim' is not defined"
     ]
    }
   ],
   "source": [
    "lfs_sim.columns"
   ]
  },
  {
   "cell_type": "code",
   "execution_count": 5,
   "metadata": {},
   "outputs": [],
   "source": [
    "fs_sim = simulated.loc[simulated.chip_number==0,:]\n",
    "lfs_sim = simulated.loc[simulated.chip_number==1,:]\n"
   ]
  },
  {
   "cell_type": "code",
   "execution_count": 84,
   "metadata": {},
   "outputs": [],
   "source": [
    "fs = pd.read_csv(\"FS_experimental_results.csv\")\n",
    "fs.rename(columns={\"exp. Regime\":\"exp_regime\", \"Ca\":\"capillary_number\",\"FRR\":\"flow_rate_ratio\"}, inplace=True)\n",
    "lfs = pd.read_csv(\"LFS_experimental_results.csv\")\n",
    "lfs.rename(columns={\"exp. Regime\":\"exp_regime\", \"Ca\":\"capillary_number\",\"FRR\":\"flow_rate_ratio\"}, inplace=True)"
   ]
  },
  {
   "cell_type": "code",
   "execution_count": 8,
   "metadata": {},
   "outputs": [
    {
     "data": {
      "text/plain": [
       "Index(['Unnamed: 0', 'Unnamed: 0.1', 'index', 'Unnamed: 0.1.1', 'aspect_ratio',\n",
       "       'capillary_number', 'chip_number', 'droplet_size', 'expansion_ratio',\n",
       "       'flow_rate_ratio', 'generation_rate', 'inferred_size',\n",
       "       'normalized_oil_inlet', 'normalized_orifice_length',\n",
       "       'normalized_water_inlet', 'orifice_size', 'regime', 'boundary',\n",
       "       'water_flow', 'oil_flow'],\n",
       "      dtype='object')"
      ]
     },
     "execution_count": 8,
     "metadata": {},
     "output_type": "execute_result"
    }
   ],
   "source": [
    "fs_sim.columns"
   ]
  },
  {
   "cell_type": "code",
   "execution_count": 98,
   "metadata": {},
   "outputs": [
    {
     "data": {
      "image/png": "[encoded data removed]",
      "text/plain": [
       "<Figure size 432x288 with 1 Axes>"
      ]
     },
     "metadata": {
      "needs_background": "light"
     },
     "output_type": "display_data"
    }
   ],
   "source": [
    "import matplotlib\n",
    "used = fs_sim\n",
    "\n",
    "\n",
    "# r1 = used.loc[used.regime==1,[\"capillary_number\", \"flow_rate_ratio\"]].reset_index()\n",
    "# r2 = used.loc[used.regime==2,[\"capillary_number\", \"flow_rate_ratio\"]].reset_index()\n",
    "\n",
    "r1 = used.loc[used.regime==1,[\"water_flow\", \"oil_flow\"]].reset_index()\n",
    "r2 = used.loc[used.regime==2,[\"water_flow\", \"oil_flow\"]].reset_index()\n",
    "\n",
    "# plt.plot(,fs.loc[fs.regime==1,\"FRR\"],\"o\")\n",
    "# plt.plot(fs.loc[fs.regime==2,\"Ca\"],fs.loc[fs.regime==2,\"FRR\"],\"o\")\n",
    "\n",
    "for df in [r1, r2]:\n",
    "    points = np.array([[df.water_flow[i], df.oil_flow[i]] for i in range(len(df.water_flow))])\n",
    "\n",
    "\n",
    "    hull = ConvexHull(points)\n",
    "    plt.scatter(points[:,0], points[:,1])\n",
    "#     for simplex in hull.simplices:\n",
    "#         plt.plot(points[simplex, 0], points[simplex, 1], 'k-')\n",
    "#     # plt.plot(fs.loc[fs.exp_regime==1,\"Ca\"],fs.loc[fs.exp_regime==1,\"FRR\"], \".\")\n",
    "#     # plt.plot(fs.loc[fs.exp_regime==2,\"Ca\"],fs.loc[fs.exp_regime==2,\"FRR\"], \".\")\n",
    "\n",
    "#plt.xlim([0, 10])\n",
    "#plt.ylim([0,1])\n",
    "\n",
    "# matplotlib.rcParams['pdf.fonttype'] = 42\n",
    "# matplotlib.rcParams['ps.fonttype'] = 42\n",
    "# plt.savefig(\"20220609_LFS_simulated.pdf\")\n"
   ]
  },
  {
   "cell_type": "code",
   "execution_count": null,
   "metadata": {},
   "outputs": [],
   "source": [
    "lfs_cts = [230, 29, 201]\n",
    "fs_cts = [230,206,24]"
   ]
  },
  {
   "cell_type": "code",
   "execution_count": 22,
   "metadata": {},
   "outputs": [
    {
     "data": {
      "text/plain": [
       "(206, 3)"
      ]
     },
     "execution_count": 22,
     "metadata": {},
     "output_type": "execute_result"
    }
   ],
   "source": [
    "r1.loc[r1.capillary_number < .28,:].shape"
   ]
  },
  {
   "cell_type": "code",
   "execution_count": 20,
   "metadata": {},
   "outputs": [
    {
     "data": {
      "text/plain": [
       "(0, 22)"
      ]
     },
     "execution_count": 20,
     "metadata": {},
     "output_type": "execute_result"
    },
    {
     "data": {
      "image/png": "[encoded data removed]",
      "text/plain": [
       "<Figure size 432x288 with 1 Axes>"
      ]
     },
     "metadata": {
      "needs_background": "light"
     },
     "output_type": "display_data"
    }
   ],
   "source": [
    "import matplotlib\n",
    "used = fs_sim\n",
    "\n",
    "\n",
    "r1 = used.loc[used.regime==1,[\"capillary_number\", \"flow_rate_ratio\"]].reset_index()\n",
    "r2 = used.loc[used.regime==2,[\"capillary_number\", \"flow_rate_ratio\"]].reset_index()\n",
    "\n",
    "# r1 = used.loc[used.regime==1,:]#[\"water_flow\", \"oil_flow\"]].reset_index()\n",
    "# r2 = used.loc[used.regime==2,[\"water_flow\", \"oil_flow\"]].reset_index()\n",
    "\n",
    "# plt.plot(,fs.loc[fs.regime==1,\"FRR\"],\"o\")\n",
    "# plt.plot(fs.loc[fs.regime==2,\"Ca\"],fs.loc[fs.regime==2,\"FRR\"],\"o\")\n",
    "\n",
    "for df in [r1, r2]:\n",
    "    points = np.array([[df.capillary_number[i], df.flow_rate_ratio[i]] for i in range(len(df.capillary_number))])\n",
    "\n",
    "\n",
    "    #hull = ConvexHull(points)\n",
    "    plt.scatter(points[:,0], points[:,1])\n",
    "#     for simplex in hull.simplices:\n",
    "#         plt.plot(points[simplex, 0], points[simplex, 1], 'k-')\n",
    "#     # plt.plot(fs.loc[fs.exp_regime==1,\"Ca\"],fs.loc[fs.exp_regime==1,\"FRR\"], \".\")\n",
    "#     # plt.plot(fs.loc[fs.exp_regime==2,\"Ca\"],fs.loc[fs.exp_regime==2,\"FRR\"], \".\")\n",
    "\n",
    "plt.xlim([0.05, 0.28])\n",
    "plt.ylim([0,22])\n",
    "\n",
    "# matplotlib.rcParams['pdf.fonttype'] = 42\n",
    "# matplotlib.rcParams['ps.fonttype'] = 42\n",
    "# plt.savefig(\"20220609_LFS_simulated.pdf\")"
   ]
  },
  {
   "cell_type": "code",
   "execution_count": 23,
   "metadata": {},
   "outputs": [
    {
     "data": {
      "text/plain": [
       "[<matplotlib.lines.Line2D at 0x1e1896b9f60>]"
      ]
     },
     "execution_count": 23,
     "metadata": {},
     "output_type": "execute_result"
    },
    {
     "data": {
      "image/png": "[encoded data removed]",
      "text/plain": [
       "<Figure size 432x288 with 1 Axes>"
      ]
     },
     "metadata": {
      "needs_background": "light"
     },
     "output_type": "display_data"
    }
   ],
   "source": [
    "plt.plot(lfs.loc[lfs.regime==1,\"Ca\"],lfs.loc[lfs.regime==1,\"FRR\"],\"o\")\n",
    "plt.plot(lfs.loc[lfs.regime==2,\"Ca\"],lfs.loc[lfs.regime==2,\"FRR\"],\"o\")\n",
    "\n",
    "plt.plot(lfs.loc[lfs.exp_regime==1,\"Ca\"],lfs.loc[lfs.exp_regime==1,\"FRR\"], \".\")\n",
    "plt.plot(lfs.loc[lfs.exp_regime==2,\"Ca\"],lfs.loc[lfs.exp_regime==2,\"FRR\"], \".\")\n"
   ]
  },
  {
   "cell_type": "code",
   "execution_count": null,
   "metadata": {},
   "outputs": [],
   "source": [
    "oil_flow(Ca_num * 0.005 * channel_height * oil_inlet * 1e-12) / \\\n",
    "                    (0.0572 * ((water_inlet_width * 1e-6)) * (\n",
    "                            (1 / (Or * 1e-6)) - (1 / (2 * oil_inlet * 1e-6))))"
   ]
  },
  {
   "cell_type": "markdown",
   "metadata": {},
   "source": [
    "Single Point observation"
   ]
  },
  {
   "cell_type": "code",
   "execution_count": 25,
   "metadata": {},
   "outputs": [],
   "source": [
    "cols = ['Ca', 'FRR', 'water_flow', 'oil_flow', 'oil_flow_per_input', 'droplet_size',\n",
    "       'generation_rate', 'flow_stability', 'exp_flow_stability',\n",
    "       'regime', 'boundary', 'exp_regime', 'exp_size', 'exp_rate']\n",
    "\n",
    "comp = pd.read_csv(\"20220807_FSLFS_compare.csv\")\n",
    "comp.index = comp.iloc[:,0]\n",
    "comp = comp.iloc[:,1:]\n",
    "comp.columns = cols"
   ]
  },
  {
   "cell_type": "code",
   "execution_count": 26,
   "metadata": {},
   "outputs": [
    {
     "data": {
      "text/html": [
       "<div>\n",
       "<style scoped>\n",
       "    .dataframe tbody tr th:only-of-type {\n",
       "        vertical-align: middle;\n",
       "    }\n",
       "\n",
       "    .dataframe tbody tr th {\n",
       "        vertical-align: top;\n",
       "    }\n",
       "\n",
       "    .dataframe thead th {\n",
       "        text-align: right;\n",
       "    }\n",
       "</style>\n",
       "<table border=\"1\" class=\"dataframe\">\n",
       "  <thead>\n",
       "    <tr style=\"text-align: right;\">\n",
       "      <th></th>\n",
       "      <th>Ca</th>\n",
       "      <th>FRR</th>\n",
       "      <th>water_flow</th>\n",
       "      <th>oil_flow</th>\n",
       "      <th>oil_flow_per_input</th>\n",
       "      <th>droplet_size</th>\n",
       "      <th>generation_rate</th>\n",
       "      <th>flow_stability</th>\n",
       "      <th>exp_flow_stability</th>\n",
       "      <th>regime</th>\n",
       "      <th>boundary</th>\n",
       "      <th>exp_regime</th>\n",
       "      <th>exp_size</th>\n",
       "      <th>exp_rate</th>\n",
       "    </tr>\n",
       "    <tr>\n",
       "      <th>Unnamed: 0</th>\n",
       "      <th></th>\n",
       "      <th></th>\n",
       "      <th></th>\n",
       "      <th></th>\n",
       "      <th></th>\n",
       "      <th></th>\n",
       "      <th></th>\n",
       "      <th></th>\n",
       "      <th></th>\n",
       "      <th></th>\n",
       "      <th></th>\n",
       "      <th></th>\n",
       "      <th></th>\n",
       "      <th></th>\n",
       "    </tr>\n",
       "  </thead>\n",
       "  <tbody>\n",
       "    <tr>\n",
       "      <th>LFS</th>\n",
       "      <td>0.05</td>\n",
       "      <td>15.333333</td>\n",
       "      <td>0.336705</td>\n",
       "      <td>0.309768</td>\n",
       "      <td>0.154884</td>\n",
       "      <td>103.312088</td>\n",
       "      <td>45.387672</td>\n",
       "      <td>0.000000</td>\n",
       "      <td>0.124171</td>\n",
       "      <td>1</td>\n",
       "      <td>1</td>\n",
       "      <td>1</td>\n",
       "      <td>63.63</td>\n",
       "      <td>42</td>\n",
       "    </tr>\n",
       "    <tr>\n",
       "      <th>FS</th>\n",
       "      <td>0.05</td>\n",
       "      <td>15.333333</td>\n",
       "      <td>1.047526</td>\n",
       "      <td>0.963724</td>\n",
       "      <td>0.481862</td>\n",
       "      <td>110.299873</td>\n",
       "      <td>38.842239</td>\n",
       "      <td>2.143039</td>\n",
       "      <td>1.929000</td>\n",
       "      <td>1</td>\n",
       "      <td>0</td>\n",
       "      <td>1</td>\n",
       "      <td>92.57</td>\n",
       "      <td>42</td>\n",
       "    </tr>\n",
       "  </tbody>\n",
       "</table>\n",
       "</div>"
      ],
      "text/plain": [
       "              Ca        FRR  water_flow  oil_flow  oil_flow_per_input  \\\n",
       "Unnamed: 0                                                              \n",
       "LFS         0.05  15.333333    0.336705  0.309768            0.154884   \n",
       "FS          0.05  15.333333    1.047526  0.963724            0.481862   \n",
       "\n",
       "            droplet_size  generation_rate  flow_stability  exp_flow_stability  \\\n",
       "Unnamed: 0                                                                      \n",
       "LFS           103.312088        45.387672        0.000000            0.124171   \n",
       "FS            110.299873        38.842239        2.143039            1.929000   \n",
       "\n",
       "            regime  boundary  exp_regime  exp_size  exp_rate  \n",
       "Unnamed: 0                                                    \n",
       "LFS              1         1           1     63.63        42  \n",
       "FS               1         0           1     92.57        42  "
      ]
     },
     "execution_count": 26,
     "metadata": {},
     "output_type": "execute_result"
    }
   ],
   "source": [
    "comp"
   ]
  },
  {
   "cell_type": "code",
   "execution_count": 41,
   "metadata": {},
   "outputs": [
    {
     "data": {
      "image/png": "[encoded data removed]",
      "text/plain": [
       "<Figure size 1008x360 with 3 Axes>"
      ]
     },
     "metadata": {
      "needs_background": "light"
     },
     "output_type": "display_data"
    }
   ],
   "source": [
    "import matplotlib\n",
    "fig, axs = plt.subplots(1,3, figsize=[14,5])\n",
    "comp.plot.bar(ax = axs[0], y=['droplet_size', \"exp_size\"], rot=0)\n",
    "comp.plot.bar(ax = axs[1], y=['generation_rate', \"exp_rate\"], rot=0)\n",
    "comp.plot.bar(ax = axs[2], y=['flow_stability', \"exp_flow_stability\"], rot=0)\n",
    "\n",
    "matplotlib.rcParams['pdf.fonttype'] = 42\n",
    "matplotlib.rcParams['ps.fonttype'] = 42\n",
    "plt.savefig(\"20220807_FSLFS_sim.pdf\")\n"
   ]
  },
  {
   "cell_type": "code",
   "execution_count": null,
   "metadata": {},
   "outputs": [],
   "source": []
  }
 ],
 "metadata": {
  "kernelspec": {
   "display_name": "Python 3",
   "language": "python",
   "name": "python3"
  },
  "language_info": {
   "codemirror_mode": {
    "name": "ipython",
    "version": 3
   },
   "file_extension": ".py",
   "mimetype": "text/x-python",
   "name": "python",
   "nbconvert_exporter": "python",
   "pygments_lexer": "ipython3",
   "version": "3.6.12"
  }
 },
 "nbformat": 4,
 "nbformat_minor": 4
}
