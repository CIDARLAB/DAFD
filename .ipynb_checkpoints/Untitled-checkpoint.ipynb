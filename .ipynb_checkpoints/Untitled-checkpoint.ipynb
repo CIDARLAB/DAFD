{
 "cells": [
  {
   "cell_type": "code",
   "execution_count": 10,
   "metadata": {},
   "outputs": [],
   "source": [
    "import pandas as pd\n",
    "import matplotlib.pyplot as plt\n",
    "from DAFD.rv_study.rv_utils import *\n",
    "from scipy.spatial import ConvexHull, convex_hull_plot_2d\n",
    "from DAFD.bin.DAFD_Interface import DAFD_Interface"
   ]
  },
  {
   "cell_type": "code",
   "execution_count": 11,
   "metadata": {},
   "outputs": [],
   "source": [
    "# Load Dataset and sort\n",
    "new_chips = pd.read_csv(\"20210211_designspace_fine.csv\")\n",
    "new_results = pd.read_csv(\"20210211_complete_fine.csv\")\n",
    "old_chips = pd.read_csv(\"DAFD/other_ignore_git/20210125_designspace_sweep3.csv\")\n",
    "old_results = pd.read_csv(\"DAFD/other_ignore_git/20210125_complete_sweep3.csv\")\n",
    "\n",
    "chips = chips.sort_values(\"score\")"
   ]
  },
  {
   "cell_type": "code",
   "execution_count": 31,
   "metadata": {},
   "outputs": [
    {
     "name": "stdout",
     "output_type": "stream",
     "text": [
      "regime classifier\n",
      "Loading classifier\n",
      "Train accuracy: 0.9887387387387387\n",
      "\n",
      "Regression model generation_rate2\n",
      "Loading Regressor\n",
      "R square (R^2) for Train:                 0.987384\n",
      "\n",
      "Regression model droplet_size2\n",
      "Loading Regressor\n",
      "R square (R^2) for Train:                 0.983142\n",
      "\n",
      "Regression model generation_rate1\n",
      "Loading Regressor\n",
      "R square (R^2) for Train:                 0.965872\n",
      "\n",
      "Regression model droplet_size1\n",
      "Loading Regressor\n",
      "R square (R^2) for Train:                 0.953238\n",
      "\n"
     ]
    }
   ],
   "source": [
    "all_results = pd.concat([old_results, new_results], sort = False).sort_values(\"chip_num\")\n",
    "di = DAFD_Interface()"
   ]
  },
  {
   "cell_type": "code",
   "execution_count": 37,
   "metadata": {},
   "outputs": [
    {
     "name": "stdout",
     "output_type": "stream",
     "text": [
      "processed 0 results\n",
      "processed 500000 results\n",
      "processed 1000000 results\n",
      "processed 1500000 results\n",
      "processed 2000000 results\n",
      "processed 2500000 results\n",
      "processed 3000000 results\n",
      "processed 3500000 results\n",
      "processed 4000000 results\n"
     ]
    }
   ],
   "source": [
    "regimes = []\n",
    "for i in range(all_results.shape[0]):\n",
    "    if i % 500000 == 0:\n",
    "        print(\"processed %d results\" % i)\n",
    "    pt = all_results.iloc[i,:].to_dict()\n",
    "    pt.pop('size')\n",
    "    pt.pop('rate')\n",
    "    pt.pop('Unnamed: 0')\n",
    "    pt.pop('chip_num')\n",
    "    results = di.runForward(pt)\n",
    "    regimes.append(results[\"regime\"])"
   ]
  },
  {
   "cell_type": "code",
   "execution_count": 39,
   "metadata": {},
   "outputs": [],
   "source": [
    "all_results[\"regime\"] = regimes"
   ]
  },
  {
   "cell_type": "code",
   "execution_count": 41,
   "metadata": {},
   "outputs": [],
   "source": [
    "all_results.to_csv(\"20210212_fullsweep.csv\")"
   ]
  },
  {
   "cell_type": "code",
   "execution_count": 54,
   "metadata": {},
   "outputs": [
    {
     "data": {
      "text/plain": [
       "Index(['Unnamed: 0', 'aspect_ratio', 'capillary_number', 'expansion_ratio',\n",
       "       'flow_rate_ratio', 'normalized_oil_inlet', 'normalized_orifice_length',\n",
       "       'normalized_water_inlet', 'orifice_size', 'size', 'rate', 'chip_num',\n",
       "       'regime'],\n",
       "      dtype='object')"
      ]
     },
     "execution_count": 54,
     "metadata": {},
     "output_type": "execute_result"
    }
   ],
   "source": [
    "all_results.columns"
   ]
  },
  {
   "cell_type": "code",
   "execution_count": 57,
   "metadata": {},
   "outputs": [],
   "source": [
    "chip_nums = all_results[\"chip_num\"].unique()"
   ]
  },
  {
   "cell_type": "code",
   "execution_count": 56,
   "metadata": {},
   "outputs": [
    {
     "data": {
      "text/plain": [
       "array([    0,     1,     2, ..., 28122, 28123, 28124], dtype=int64)"
      ]
     },
     "execution_count": 56,
     "metadata": {},
     "output_type": "execute_result"
    }
   ],
   "source": [
    "chips"
   ]
  },
  {
   "cell_type": "code",
   "execution_count": null,
   "metadata": {},
   "outputs": [],
   "source": [
    "score = []\n",
    "size_score = []\n",
    "rate_score = []\n",
    "hulls = []\n",
    "\n",
    "\n",
    "for num in chip_nums:\n",
    "    if num % 500 == 0:\n",
    "        print(\"at chip %d\"%num)\n",
    "    chip_data = all_results.loc[all_results[\"chip_num\"] == num,:]\n",
    "    sizes = chip_data[\"size\"]\n",
    "    rates = chip_data[\"rate\"]\n",
    "    points = np.array([[sizes[i], rates[i]] for i in range(len(sizes))])\n",
    "    try:\n",
    "        hull = ConvexHull(points)\n",
    "        hulls.append(hull)\n",
    "        size_score.append(np.max(sizes) - np.min(sizes))\n",
    "        rate_score.append(np.max(rates) - np.min(rates))\n",
    "        score.append(hull.volume)\n",
    "    except:\n",
    "        print(\"failure\")\n",
    "        hulls.append(-1)\n",
    "        score.append(-1)\n",
    "        size_score.append(-1)\n",
    "        rate_score.append(-1)\n"
   ]
  }
 ],
 "metadata": {
  "kernelspec": {
   "display_name": "Python 3",
   "language": "python",
   "name": "python3"
  },
  "language_info": {
   "codemirror_mode": {
    "name": "ipython",
    "version": 3
   },
   "file_extension": ".py",
   "mimetype": "text/x-python",
   "name": "python",
   "nbconvert_exporter": "python",
   "pygments_lexer": "ipython3",
   "version": "3.6.12"
  }
 },
 "nbformat": 4,
 "nbformat_minor": 4
}
